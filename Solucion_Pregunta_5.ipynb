{
  "nbformat": 4,
  "nbformat_minor": 0,
  "metadata": {
    "colab": {
      "provenance": []
    },
    "kernelspec": {
      "name": "python3",
      "display_name": "Python 3"
    },
    "language_info": {
      "name": "python"
    }
  },
  "cells": [
    {
      "cell_type": "markdown",
      "source": [
        "Realizar un programa que permita ingresar repetidamente números, determinar cuántos números de 2 cifras ingresaron, la cantidad de números de 3 cifras y la cantidad de números de 4 cifras. El ingreso finaliza cuando la cantidad de números de 2 cifras es igual a la cantidad de números de 4 cifras. Para detener el ciclo no tenga en cuenta el caso inicial de que ambas cantidades sean 0.\n"
      ],
      "metadata": {
        "id": "LaxY4QrsymOn"
      }
    },
    {
      "cell_type": "code",
      "execution_count": null,
      "metadata": {
        "id": "raAlG350yjdZ"
      },
      "outputs": [],
      "source": [
        "cont2=0 \n",
        "cont3=0 \n",
        "cont4=0 \n",
        "respuesta=True \n",
        "while respuesta == True: \n",
        "  num=int(input(\"Ingrese un número: \")) \n",
        "  if num>9 and num<=99: \n",
        "    print('Es de 2 cifras') \n",
        "    cont2 = cont2 + 1\n",
        "  elif num>99 and num<=999:\n",
        "    print('Es de 3 cifras')\n",
        "    cont3 = cont3 + 1\n",
        "  elif num>999 and num<=9999:\n",
        "    cont4 = cont4 + 1\n",
        "  if cont2==cont4 and cont2!=0:\n",
        "    respuesta=False\n",
        "print(f'{cont2}', 'es la cantidad de números ingresados de 2 cifras') \n",
        "print(f'{cont3}', 'es la cantidad de números ingresados de 3 cifras') \n",
        "print(f'{cont4}', 'es la cantidad de números ingresados de 4 cifras')"
      ]
    }
  ]
}