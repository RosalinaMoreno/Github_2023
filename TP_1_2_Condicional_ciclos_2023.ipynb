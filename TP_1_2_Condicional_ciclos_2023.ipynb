{
  "nbformat": 4,
  "nbformat_minor": 0,
  "metadata": {
    "colab": {
      "provenance": [],
      "include_colab_link": true
    },
    "kernelspec": {
      "name": "python3",
      "display_name": "Python 3"
    },
    "language_info": {
      "name": "python"
    }
  },
  "cells": [
    {
      "cell_type": "markdown",
      "metadata": {
        "id": "view-in-github",
        "colab_type": "text"
      },
      "source": [
        "<a href=\"https://colab.research.google.com/github/RosalinaMoreno/Github_2023/blob/main/TP_1_2_Condicional_ciclos_2023.ipynb\" target=\"_parent\"><img src=\"https://colab.research.google.com/assets/colab-badge.svg\" alt=\"Open In Colab\"/></a>"
      ]
    },
    {
      "cell_type": "markdown",
      "source": [
        "\n",
        "Ingresar dos números, devolver el mayor de ellos o indicar si son iguales.\n",
        "\n",
        "Ingresar tres números, devolver el mayor de ellos. ¿Es posible indicar si son iguales los 3? ¿y si son iguales de a 2?"
      ],
      "metadata": {
        "id": "cUZO_42_aNcD"
      }
    },
    {
      "cell_type": "code",
      "source": [
        "'''\n",
        "num_1 = int(input(\"ingrese un numero entero: \"))\n",
        "num_2 = int(input(\"ingrese un numero entero: \"))\n",
        "if num_1 > num_2:\n",
        "  print(f\"El mayor numero ingresado es {num_1}\")\n",
        "elif num_2 > num_1:\n",
        "    print(f\"El mayor numero ingresado es {num_2}\")\n",
        "else:\n",
        "  print(f\"Los numeros ingresados son iguales.\") '''\n",
        "\n",
        "num_1 = int(input(\"ingrese un numero entero: \"))\n",
        "num_2 = int(input(\"ingrese un numero entero: \"))\n",
        "num_3 = int(input(\"ingrese un numero entero: \"))\n",
        "if num_1 > num_2 and num_1 > num_3:\n",
        "  print(f\"El mayor numero ingresado es {num_1}\")\n",
        "elif num_2 > num_1 and num_2 > num_3:\n",
        "  print(f\"El mayor numero ingresado es {num_2}\")\n",
        "elif num_3 > num_1 and num_3 > num_2:\n",
        "  print(f\"El mayor numero ingresado es {num_3}\")\n",
        "else:\n",
        "  print(f\"Los numeros ingresados son iguales.\")"
      ],
      "metadata": {
        "id": "HOCMcKCTafo6"
      },
      "execution_count": null,
      "outputs": []
    },
    {
      "cell_type": "markdown",
      "source": [
        "Un hotel cuenta con 3 tipos de habitaciones: “Oro”, “Platino”, “Bronce” y cobra por noche 7000,6000 y $5000 respectivamente. Si un huésped supera las 3 noches de alojamiento se le realiza un descuento del 10% en el total del precio a pagar. Dada la cantidad de noches que se aloja un huésped y el tipo de habitación elegida, calcule y muestre el monto que debe pagar el huésped.\n",
        "Pensar en más huespedes (ese ejercicio está más abajo)"
      ],
      "metadata": {
        "id": "inScO5TcfFEc"
      }
    },
    {
      "cell_type": "code",
      "source": [
        "'''\n",
        "* habOro $ 7000\n",
        "* habPlatino $ 6000\n",
        "* habBronce $ 5000\n",
        "* descuento del 10% si supera las 3 noches de alojamiento\n",
        "* se conoce la cantidad de noches que se aloja un huesped y el tipo de habitación\n",
        "* calcular el monto a pagar por el hueped '''\n",
        "\n",
        "habOro = 7000\n",
        "habPlatino = 6000\n",
        "habBronce = 5000\n",
        "cant_dias = int(input(\"Ingrese la cantidad de días de alojamiento: \"))\n",
        "tipo_habitacion = int(input(\"elija una opcion: 1) Oro, 2) Platino, 3) Bronce\"))\n",
        "if tipo_habitacion == 1:\n",
        "  monto = cant_dias * habOro\n",
        "elif tipo_habitacion == 2:\n",
        "  monto = cant_dias * habPlatino\n",
        "else:\n",
        "  monto = cant_dias * habBronce\n",
        "if cant_dias >= 3:\n",
        "  monto = monto - (monto * 10 ) / 100\n",
        "print(f\"El monto a pagar por {cant_dias} dias de alojamiento es {monto}\")"
      ],
      "metadata": {
        "id": "2hXYAmR4fGUg"
      },
      "execution_count": null,
      "outputs": []
    },
    {
      "cell_type": "markdown",
      "source": [
        "Dado un número natural:\n",
        "\n",
        "mostrar sus digitos\n",
        "contar sus digitos\n",
        "contar los digitos pares del número"
      ],
      "metadata": {
        "id": "hM6iQ6jVfQ6y"
      }
    },
    {
      "cell_type": "code",
      "source": [
        "numero = int(input(\"Ingrese un numero natural: \"))\n",
        "cont = 0\n",
        "cont_par = 0\n",
        "while numero > 0:\n",
        "  dig = numero % 10\n",
        "  print(f\"digito {dig}\")\n",
        "  cont += 1\n",
        "  if dig % 2 == 0:\n",
        "    cont_par += 1\n",
        "  numero = numero // 10\n",
        "print(f\"cantidad de digito = {cont}\")\n",
        "print(f\"cantidad de digitos pares = {cont_par}\")"
      ],
      "metadata": {
        "id": "B1l0sHoWfSHI"
      },
      "execution_count": null,
      "outputs": []
    },
    {
      "cell_type": "markdown",
      "source": [
        "Ejercicio 1:\n",
        "Ingresar dos números, devolver el mayor de ellos o indicar si son iguales."
      ],
      "metadata": {
        "id": "iIEq6ILyZPCY"
      }
    },
    {
      "cell_type": "code",
      "source": [
        "#Hecho por Elder Patricia Serrano\n",
        "\n",
        "num1=int(input(\"Ingrese un número: \"))\n",
        "num2=int(input(\"Ingrese otro número: \"))\n",
        "if num1==num2:\n",
        "  print(\"Los números son iguales\")\n",
        "else:\n",
        "  if num1>num2:\n",
        "    print(f\"El mayor es {num1}\")\n",
        "  else:\n",
        "    print(f\"El mayor es {num2}\")"
      ],
      "metadata": {
        "id": "xYH24_LHZWa3",
        "outputId": "5d51ff7f-3591-495a-b2ab-72cbde8b3f2b",
        "colab": {
          "base_uri": "https://localhost:8080/"
        }
      },
      "execution_count": null,
      "outputs": [
        {
          "output_type": "stream",
          "name": "stdout",
          "text": [
            "Ingrese un número: 23\n",
            "Ingrese otro número: 45\n",
            "El mayor es 45\n"
          ]
        }
      ]
    },
    {
      "cell_type": "markdown",
      "source": [
        "Ejercicio 2:\n",
        "Los empleados de una empresa cobran en una fecha determinada según la terminación\n",
        "de su número de DNI. Solicitar al usuario su número de DNI e indicar qué día cobra su\n",
        "sueldo de acuerdo a la siguiente descripción:\n",
        "- DNI terminado en 0-2-4-6-8 cobra el Jueves 04 de mayo.\n",
        "- DNI terminado en 1-3-5-7-9 cobra el Viernes 05 de mayo."
      ],
      "metadata": {
        "id": "1En2lsN3aIgF"
      }
    },
    {
      "cell_type": "code",
      "source": [
        "#Hecho por Elder Patricia Serrano\n",
        "dni=int(input(\"Ingrese su nro de documento: \"))\n",
        "if dni%2==0:\n",
        "  print('Ud cobra el Jueves 4 de mayo')\n",
        "else:\n",
        "  print('Ud cobra el Viernes 5 de mayo')"
      ],
      "metadata": {
        "id": "s7m1BNu58W8X"
      },
      "execution_count": null,
      "outputs": []
    },
    {
      "cell_type": "code",
      "source": [
        "'''\n",
        "solicitar al usuario 2 numeros de dni\n",
        "indicar el día de cobro, numero de dni que termina con número par cobra el jueves 4 de mayo\n",
        "numero de dni con termina con número impar cobran el día viernes 05 de mayo '''\n",
        "dni = int(input(\"Ingrese su numero de DNI: \"))\n",
        "dig = dni % 10\n",
        "if dig % 2 == 0:\n",
        "  print(\"Su fecha de cobro es el Jueves 4 de mayo\")\n",
        "else:\n",
        "  print(\"Su fecha de cobro es el viernes 5 de mayo\")\n",
        "print(\"Fin del programa.\")"
      ],
      "metadata": {
        "id": "xgFSC-BS7zYA",
        "colab": {
          "base_uri": "https://localhost:8080/"
        },
        "outputId": "63c0a8ce-36a2-4002-d6dd-5be59f014be1"
      },
      "execution_count": null,
      "outputs": [
        {
          "output_type": "stream",
          "name": "stdout",
          "text": [
            "Ingrese su numero de DNI: 39432543\n",
            "Su fecha de cobro es el viernes 5 de mayo\n",
            "Fin del programa.\n"
          ]
        }
      ]
    },
    {
      "cell_type": "markdown",
      "source": [
        "Ejercicio 3:\n",
        "Un hotel cuenta con 3 tipos de habitaciones: “Oro”, “Platino”, “Bronce” y cobra por\n",
        "noche $7000, $6000 y $5000 respectivamente. Si un huésped supera las 3 noches de\n",
        "alojamiento se le realiza un descuento del 10% en el total del precio a pagar. Dada la\n",
        "cantidad de noches que se aloja un huésped y el tipo de habitación elegida, calcule y\n",
        "muestre el monto que debe pagar el huésped."
      ],
      "metadata": {
        "id": "afnnD14BaI3j"
      }
    },
    {
      "cell_type": "code",
      "source": [
        "#Hecho por Elder Patricia Serrano\n",
        "PrecioOro=7000\n",
        "PrecioPlatino=6000\n",
        "PrecioBronce=5000\n",
        "Tipo=input(\"Ingrese el tipo de habitación elegida (Oro/Platino/Bronce): \")\n",
        "Cant=int(input(\"Ingrese la cantidad de días de alojamiento: \"))\n",
        "if Tipo==\"Oro\":\n",
        "  Total=Cant*PrecioOro\n",
        "elif Tipo==\"Platino\":\n",
        "  Total=Cant*PrecioPlatino\n",
        "elif Tipo==\"Bronce\":\n",
        "  Total=Cant*PrecioBronce\n",
        "if Cant>=3:\n",
        "  Totalfinal=Total-(Total*0.1)\n",
        "  print (f\"El monto a pagar es: ${Totalfinal}\")\n",
        "else:\n",
        "  print (f\"El monto a pagar es: ${Total}\")"
      ],
      "metadata": {
        "id": "OeasSGVy7yKn",
        "outputId": "a48cecc0-0cc6-46a3-edef-513d20f0b114",
        "colab": {
          "base_uri": "https://localhost:8080/"
        }
      },
      "execution_count": null,
      "outputs": [
        {
          "output_type": "stream",
          "name": "stdout",
          "text": [
            "Ingrese el tipo de habitación elegida (Oro/Platino/Bronce): Oro\n",
            "Ingrese la cantidad de días de alojamiento: 5\n",
            "El monto a pagar es: $31500.0\n"
          ]
        }
      ]
    },
    {
      "cell_type": "markdown",
      "source": [
        "Ejercicio 4:\n",
        "Un plan de telefonía consiste en cobrar una tarifa base mensual que incluye minutos\n",
        "gratuitos de llamadas locales más el costo por minuto de las llamadas excedentes.\n",
        "Solicite al usuario la tarifa plana, la cantidad de minutos gratuitos que se ofrecen y la\n",
        "cantidad total de segundos de llamadas que realizó una persona, luego calcule y\n",
        "muestre el monto de la factura a pagar.\n",
        "Nota: El costo por minuto excedente de una llamada es de $100."
      ],
      "metadata": {
        "id": "ThqcTMC0aJJi"
      }
    },
    {
      "cell_type": "code",
      "source": [
        "'''\n",
        "solicitar al usuario la tarifa plana\n",
        "cantidad de minutos\n",
        "la cantidad de segundos excedentes, costo de minuto excedente $ 100 '''\n"
      ],
      "metadata": {
        "id": "EPyjHJ4b7xJi"
      },
      "execution_count": null,
      "outputs": []
    },
    {
      "cell_type": "code",
      "source": [
        "#Hecho por Elder Patricia Serrano\n",
        "\n",
        "Tarifa=float(input(\"Ingrese el monto correspondiente a la tarifa plana: $\"))\n",
        "MinLibres=int(input(\"Ingrese la cantidad de minutos libres que incluye la tarifa plana: \"))\n",
        "CanTotalSegundos=int(input(\"Ingrese la cantidad total de segundos de llamadas realizadas por el abonado: \"))\n",
        "MinutoExcedente=100\n",
        "CtoExcedente=0\n",
        "CantTotalMinutos=CanTotalSegundos//60\n",
        "if CanTotalSegundos%60 !=0:\n",
        "  CantTotalMinutos+=1\n",
        "if CantTotalMinutos>MinLibres:\n",
        "  Excedente=CantTotalMinutos-MinLibres\n",
        "  CtoExcedente=Excedente*100\n",
        "TotalFactura=Tarifa+CtoExcedente\n",
        "print(f\"El monto total de la factura es:${TotalFactura}\")"
      ],
      "metadata": {
        "id": "0V0pHzIc38c0"
      },
      "execution_count": null,
      "outputs": []
    },
    {
      "cell_type": "code",
      "source": [
        "#Resolución propuesta por Evangelina Dioli\n",
        "\n",
        "tarifa_plana = float(input(\"Ingrese la tarifa plana mensual: \"))\n",
        "minutos_gratuitos = int(input(\"Ingrese la cantidad de minutos gratuitos: \"))\n",
        "segundos_llamadas = int(input(\"Ingrese la cantidad total de segundos de llamadas: \"))\n",
        "\n",
        "\n",
        "minutos_total = segundos_llamadas // 60\n",
        "if segundos_llamadas % 60 != 0:\n",
        " minutos_total= minutos_total+1\n",
        "else:\n",
        " minutos_total= minutos_total\n",
        "minutos_excedentes = minutos_total - minutos_gratuitos\n",
        "print(minutos_total)\n",
        "\n",
        "if minutos_excedentes <= 0:\n",
        "    costo_factura = tarifa_plana\n",
        "else:\n",
        "    costo_factura = tarifa_plana + minutos_excedentes * 100\n",
        "\n",
        "\n",
        "print(\"El monto de la factura a pagar es: $\", costo_factura)"
      ],
      "metadata": {
        "id": "SnbxT0JanTxh",
        "outputId": "ce8c3b6f-545f-45bc-f999-4146cc0df1ac",
        "colab": {
          "base_uri": "https://localhost:8080/"
        }
      },
      "execution_count": null,
      "outputs": [
        {
          "output_type": "stream",
          "name": "stdout",
          "text": [
            "Ingrese la tarifa plana mensual: 300\n",
            "Ingrese la cantidad de minutos gratuitos: 2\n",
            "Ingrese la cantidad total de segundos de llamadas: 125\n",
            "3\n",
            "El monto de la factura a pagar es: $ 400.0\n"
          ]
        }
      ]
    },
    {
      "cell_type": "markdown",
      "source": [
        "Ejercicio 5:\n",
        "Un hotel cuenta con 3 tipos de habitaciones: “Oro”, “Platino”, “Bronce” y cobra por\n",
        "noche $7000, $6000 y $5000 respectivamente. Si un huésped supera las 3 noches de\n",
        "alojamiento se le realiza un descuento del 10% en el total del precio a pagar.\n",
        "Simule todo un día de hospedaje, suponiendo que ingresan N huéspedes con una\n",
        "reserva cada uno. Cada huésped le indica la cantidad de noches que se aloja y el tipo\n",
        "de habitación elegida. Calcule y muestre la siguiente información:\n",
        "- Monto a pagar por cada huésped.\n",
        "- Cantidad de huéspedes que eligieron habitación “Oro”.\n",
        "- Cantidad de huéspedes que se alojaron sólo 1 noche.\n",
        "- Cantidad de huéspedes a los que se hizo descuento.\n",
        "- Monto total acumulado durante todo el día de hospedaje."
      ],
      "metadata": {
        "id": "q-Xnw_UX70tP"
      }
    },
    {
      "cell_type": "code",
      "source": [
        "'''\n",
        "usar un ciclo (while o for)\n",
        "ingresar una cantidad N de huespedes\n",
        "usaremos contadores\n",
        "usaremos sumadores\n",
        "'''"
      ],
      "metadata": {
        "id": "sobRYmTC75KZ"
      },
      "execution_count": null,
      "outputs": []
    },
    {
      "cell_type": "code",
      "source": [
        "#Hecho por Elder Patricia Serrano\n",
        "\n",
        "N=int(input(\"Ingrese la cantidad de huespedes a ingresar: \"))\n",
        "PrecioOro=7000\n",
        "PrecioPlatino=6000\n",
        "PrecioBronce=5000\n",
        "while CantHuesped <= N:\n",
        "  Total=0\n",
        "  CantHuesped=1\n",
        "  CantUna=0\n",
        "  CantOro=0\n",
        "  Cantdes=0\n",
        "  Totaldia=0\n",
        "  Totalfinal=0\n",
        "  Tipo=int(input(\"Ingrese el tipo de habitación elegida (1. Oro/2. Platino/3. Bronce): \"))\n",
        "  CantNoches=int(input(\"Ingrese la cantidad de días de alojamiento: \"))\n",
        "  if Tipo==1:\n",
        "    Total= CantNoches * PrecioOro\n",
        "    CantOro+=1\n",
        "  elif Tipo==2:\n",
        "    Total=CantNoches*PrecioPlatino\n",
        "  else:\n",
        "    Total=CantNoches*PrecioBronce\n",
        "  if CantNoches==1:\n",
        "    CantUna+=1\n",
        "  else:\n",
        "    if CantNoches>=3:\n",
        "      Totalfinal=Total-(Total*0.1)\n",
        "      Cantdes+=1\n",
        "\n",
        "\n",
        "  Totalfinal=Total\n",
        "  print (f\"El monto a pagar por el Huesped {CantHuesped} es: ${Totalfinal}\")\n",
        "  CantHuesped+=1\n",
        "Totaldia=Totaldia+Totalfinal\n",
        "print(f\"Cantidad de huespedes que eligieron oro: {CantOro}\")\n",
        "print(f\"Cantidad de huespedes que se alojaron una sola noche: {CantUna}\")\n",
        "print(f\"Cantidad de huespedes con descuento: {Cantdes}\")\n",
        "print(f\"Monto total acumulado del día: {Totaldia}\")"
      ],
      "metadata": {
        "id": "WZbpqUqf5Rm4"
      },
      "execution_count": null,
      "outputs": []
    },
    {
      "cell_type": "markdown",
      "source": [
        "Ejercicio 6:\n",
        "Realizar un programa que determine el factorial(!) de un número ingresado. Por ejemplo si\n",
        "ingresó 4 su factorial es 1×2×3×4=24."
      ],
      "metadata": {
        "id": "ztvFY-MW75mu"
      }
    },
    {
      "cell_type": "code",
      "source": [
        "'''\n",
        "ingresar un numero natural\n",
        "usar un ciclo\n",
        "formula de factorial\n",
        "mostrar el resultado\n",
        "'''"
      ],
      "metadata": {
        "id": "lVmlvG6O8Gz1"
      },
      "execution_count": null,
      "outputs": []
    },
    {
      "cell_type": "code",
      "source": [
        "#Hecho por Elder Patricia Serrano\n",
        "\n",
        "Num=int(input('Ingrese un número para determinar su factorial: '))\n",
        "Fact=1\n",
        "for i in range(1, Num+1):\n",
        "  Fact=Fact*i\n",
        "print()\n",
        "print ('El factorial de '+ str(Num)+'! = '+str(Fact))"
      ],
      "metadata": {
        "id": "DmKDfKkp5lK8"
      },
      "execution_count": null,
      "outputs": []
    },
    {
      "cell_type": "markdown",
      "source": [
        "Ejercicio 7:\n",
        "El número e de valor aproximado 2.71828 puede calcularse con una expresión algebráica,\n",
        "solicite al usuario un valor tope para n y calcule:"
      ],
      "metadata": {
        "id": "LENxWC2v8HZ3"
      }
    },
    {
      "cell_type": "code",
      "source": [
        "# Solución propuesta por Paula Cardozo\n",
        "\n",
        "n = int(input(\"Ingrese valor tope para n: \"))\n",
        "\n",
        "sumatoria = 1\n",
        "print('1', end='')\n",
        "\n",
        "for i in range(1, n+1):\n",
        "\n",
        "  #Calcula factorial\n",
        "  factorial = 1\n",
        "  for i in range(1, i+1):\n",
        "    factorial *= i\n",
        "\n",
        "  print(f' + 1/{factorial}', end='')\n",
        "  sumatoria += 1/factorial\n",
        "\n",
        "print(f\" = {sumatoria}\")"
      ],
      "metadata": {
        "id": "UDU4Witv8Ls9"
      },
      "execution_count": null,
      "outputs": []
    },
    {
      "cell_type": "code",
      "source": [
        "#Hecho por Elder Patricia Serrano\n",
        "\n",
        "n=int(input(\"Ingrese el valor tope para n: \"))\n",
        "for k in range(n+1):\n",
        "  Fact=1\n",
        "  for i in range(1, Num+1):\n",
        "    Fact=Fact*i\n",
        "    e=1/Fact\n",
        "print (e)"
      ],
      "metadata": {
        "id": "pbig1YRt5zpF"
      },
      "execution_count": null,
      "outputs": []
    },
    {
      "cell_type": "markdown",
      "source": [
        "Ejercicio 8:\n",
        "Dada una lista de números reales no nulos mostrar cuántos números ingresó el usuario\n",
        "y determinar el promedio de los positivos. Detener el ingreso cuando el usuario ingrese\n",
        "un 0."
      ],
      "metadata": {
        "id": "4HXnD19j8OiI"
      }
    },
    {
      "cell_type": "code",
      "source": [
        "fin = \"s\"\n",
        "while fin == \"s\":\n",
        "  print(\"Usted ingreso al ciclo while\")\n",
        "  fin = input(\"Si desea continuar ingrese la letra s, sino ingrese la letra n: \")\n",
        "print(\"Fin del programa.\")\n"
      ],
      "metadata": {
        "id": "8NVgJa9S8Pag",
        "colab": {
          "base_uri": "https://localhost:8080/"
        },
        "outputId": "b2a958e5-6da5-4647-d6b1-636ecfcda194"
      },
      "execution_count": null,
      "outputs": [
        {
          "output_type": "stream",
          "name": "stdout",
          "text": [
            "Usted ingreso al ciclo while\n",
            "Si desea continuar ingrese la letra s, sino ingrese la letra ns\n",
            "Usted ingreso al ciclo while\n",
            "Si desea continuar ingrese la letra s, sino ingrese la letra ns\n",
            "Usted ingreso al ciclo while\n",
            "Si desea continuar ingrese la letra s, sino ingrese la letra nn\n",
            "Fin del programa.\n"
          ]
        }
      ]
    },
    {
      "cell_type": "code",
      "source": [
        "#Hecho por Elder Patricia Serrano\n",
        "\n",
        "cantNum=0\n",
        "Cantpos=0\n",
        "SumPositivos=0\n",
        "Num=int(input(\"Ingrese un número real (para finalizar ingrese 0): \"))\n",
        "while Num!=0:\n",
        "  cantNum+=1\n",
        "  if Num>0:\n",
        "    Cantpos+=1\n",
        "    SumPositivos=SumPositivos+Num\n",
        "  Num=int(input(\"Ingrese un número real (para finalizar ingrese 0): \"))\n",
        "PromPos= SumPositivos/ Cantpos\n",
        "print(f\"Números ingresados: {cantNum}\")\n",
        "print(f\"El promedio de números positivos: {PromPos}\")"
      ],
      "metadata": {
        "id": "iWlXs8vO6KKO"
      },
      "execution_count": null,
      "outputs": []
    },
    {
      "cell_type": "code",
      "source": [
        "# Solucion propuesta por Elizabet Rosalina Moreno\n",
        "suma=0\n",
        "cont=0\n",
        "contne=0\n",
        "conT=0\n",
        "promedio=0\n",
        "respuesta = True\n",
        "while respuesta == True:\n",
        "  num=int(input(\"Ingrese un número real: \"))\n",
        "  if num > 0:\n",
        "    suma=suma+num\n",
        "    cont=cont+1\n",
        "  elif num<0:\n",
        "    contne=contne+1\n",
        "  elif num == 0:\n",
        "    respuesta=False\n",
        "promedio=suma/cont\n",
        "conT=cont+contne\n",
        "print(\"Se ingresaron\", conT, \"números\")\n",
        "print(promedio, \"es el promedio de los números ingresados\")"
      ],
      "metadata": {
        "id": "qi3Km5PeDEPR",
        "outputId": "e4ce55c0-8039-4d86-9799-4b893469abd1",
        "colab": {
          "base_uri": "https://localhost:8080/"
        }
      },
      "execution_count": 1,
      "outputs": [
        {
          "output_type": "stream",
          "name": "stdout",
          "text": [
            "Ingrese un número real: 2\n",
            "Ingrese un número real: 3\n",
            "Ingrese un número real: 5\n",
            "Ingrese un número real: 2\n",
            "Ingrese un número real: 9\n",
            "Ingrese un número real: 4\n",
            "Ingrese un número real: 0\n",
            "Se ingresaron 6 números\n",
            "4.166666666666667 es el promedio de los números ingresados\n"
          ]
        }
      ]
    },
    {
      "cell_type": "markdown",
      "source": [
        "Ejercicio 9:\n",
        "Realizar un programa que permita ingresar repetidamente números, determinar\n",
        "cuántos números de 2 cifras ingresaron, la cantidad de números de 3 cifras y la\n",
        "cantidad de números de 4 cifras. El ingreso finaliza cuando la cantidad de números de\n",
        "2 cifras es igual a la cantidad de números de 4 cifras. Para detener el ciclo no tenga en\n",
        "cuenta el caso inicial de que ambas cantidades sean 0."
      ],
      "metadata": {
        "id": "N8tssIm68P1W"
      }
    },
    {
      "cell_type": "code",
      "source": [
        "'''\n",
        "ingresos de numeros\n",
        "usar ciclos\n",
        "contar los numeros ingresados con 2, 3 y 4 cifras\n",
        "terminar el programa cuando los numeros de 2 y 4 cifras sean iguales, cantidad mayor a cero\n",
        "'''\n",
        "resp = True\n",
        "cont2 = cont3 = cont4 = 0\n",
        "while resp == True:\n",
        "  numero = int(input(\"Ingrese un numero natural: \"))\n",
        "  num = numero\n",
        "  cont = 0\n",
        "  while num > 0:\n",
        "    num = num // 10\n",
        "    cont += 1\n",
        "  if cont == 2:\n",
        "    cont2 += 1\n",
        "  elif cont == 3:\n",
        "    cont3 += 1\n",
        "  elif cont == 4:\n",
        "    cont4 += 1\n",
        "  elif cont2 > 0 and cont2 == cont4 and numero == 0:\n",
        "    resp = False\n",
        "print(f\"cantidad de numero de 2 cifras es {cont2}\")\n",
        "print(f\"cantidad de numero de 3 cifras es {cont3}\")\n",
        "print(f\"cantidad de numero de 4 cifras es {cont4}\")"
      ],
      "metadata": {
        "id": "Oxv5MhU48THF",
        "colab": {
          "base_uri": "https://localhost:8080/"
        },
        "outputId": "ba0c43ce-24b3-451b-8764-2bdd7b576d2c"
      },
      "execution_count": null,
      "outputs": [
        {
          "output_type": "stream",
          "name": "stdout",
          "text": [
            "Ingrese un numero natural: 76\n",
            "Ingrese un numero natural: 6543\n",
            "Ingrese un numero natural: 87654\n",
            "Ingrese un numero natural: 0\n",
            "cantidad de numero de 2 cifras es 1\n",
            "cantidad de numero de 3 cifras es 0\n",
            "cantidad de numero de 4 cifras es 1\n"
          ]
        }
      ]
    },
    {
      "cell_type": "code",
      "source": [
        "#Hecho por Elder Patricia Serrano\n",
        "\n",
        "Nro2cifras=0\n",
        "Nro3cifras=0\n",
        "Nro4cifras=0\n",
        "fin=False\n",
        "while fin==False:\n",
        "  Nro=int(input(\"Ingrese un número entero: \"))\n",
        "  cont=0\n",
        "  while Nro > 0:\n",
        "    Nro=Nro //10\n",
        "    cont+=1\n",
        "  if cont==2:\n",
        "    Nro2cifras+=1\n",
        "  elif cont==3:\n",
        "    Nro3cifras+=1\n",
        "  elif cont==4:\n",
        "    Nro4cifras+=1\n",
        "  if  Nro2cifras!=0 and Nro4cifras!=0 and Nro2cifras==Nro4cifras:\n",
        "     fin=True\n",
        "print(f\"La cantidad de números de 2 cifras ingresadas es: {Nro2cifras}\")\n",
        "print(f\"La cantidad de números de 3 cifras ingresadas es: {Nro3cifras}\")\n",
        "print(f\"La cantidad de números de 4 cifras ingresadas es: {Nro4cifras}\")"
      ],
      "metadata": {
        "id": "vpHzSoPa6i3M"
      },
      "execution_count": null,
      "outputs": []
    },
    {
      "cell_type": "markdown",
      "source": [
        "Ejercicio 10:\n",
        "Los empleados de una empresa cobran en una fecha determinada según la terminación\n",
        "de su número de DNI de acuerdo a la siguiente descripción:\n",
        "- DNI terminado en 0-2-4-6-8 cobra el Jueves 04 de mayo.\n",
        "- DNI terminado en 1-3-5-7-9 cobra el Viernes 05 de mayo.\n",
        "Diseñe un programa que permita repetidamente el ingreso del nombre y dni de los\n",
        "empleados y muestre un mensaje indicando el nombre y la fecha de cobro de cada\n",
        "uno. El ingreso de datos debe detenerse cuando el usuario lo decida."
      ],
      "metadata": {
        "id": "8gW3vfyT8YSW"
      }
    },
    {
      "cell_type": "code",
      "source": [
        "#Hecho por Elder Patricia Serrano\n",
        "\n",
        "cont=\"s\"\n",
        "while cont==\"s\":\n",
        "  Nom=input(\"Ingrese nombre y apellido: \")\n",
        "  dni=int(input(\"Ingrese su nro de documento: \"))\n",
        "  if dni%2==0:\n",
        "    print(f\"{Nom} cobra el Jueves 4 de mayo\")\n",
        "  else:\n",
        "    print(f\"{Nom} cobra el Viernes 5 de mayo\")\n",
        "  cont=input(\"Desea continuar la carga?(s/n): \")\n",
        "print(\"fin\")"
      ],
      "metadata": {
        "id": "ywQbisqE8Zhk"
      },
      "execution_count": null,
      "outputs": []
    },
    {
      "cell_type": "markdown",
      "source": [
        "Ejercicio 11:\n",
        "Realizar un programa para validar un número de tarjeta de crédito. Para ello, se\n",
        "presenta el proceso a seguir:\n",
        "1. Se debe ingresar el número de tarjeta de crédito.\n",
        "Ejemplo: 4417 1234 5678 9113 ( siempre serán 16 dígitos, no use espacios)\n",
        "2. Luego, duplicar los números en las posiciones impares, de derecha a izquierda\n",
        "[4] 4 [1] 7 [1] 2 [3] 4 [5] 6 [7] 8 [9] 1 [1] 3\n",
        "Quedando como:\n",
        "[8] 4 [2] 7 [2] 2 [6] 4 [10] 6 [14] 8 [18] 1 [2] 3\n",
        "3. Si un número queda con dos dígitos, sumarlos para transformarlos en uno solo.\n",
        "[8] 4 [2] 7 [2] 2 [6] 4 [1] 6 [5] 8 [9] 1 [2]\n",
        "4. Ahora sumar todos los números\n",
        "5. Si el resultado es divisible por 10, el número de tarjeta es válido, caso\n",
        "contrario, no lo es.\n",
        "8+4+2+7 + 2+2+6+4 + 1+6+5+6 + 1+4+1+8 + 1+1+2+3 = 70\n",
        "70 % 10 = 0\n",
        "Nota: Realizar el algoritmo de manera que el proceso se cumpla aunque no lo siga\n",
        "literalmente. No debe utilizar listas para realizar el ejercicio."
      ],
      "metadata": {
        "id": "Fl8TlSc18aAF"
      }
    },
    {
      "cell_type": "code",
      "source": [
        "#Hecho por Elder Patricia Serrano\n",
        "\n",
        "bandera  = True\n",
        "while bandera == True:\n",
        "  indice=0\n",
        "  suma=0\n",
        "  Total=0\n",
        "  NroTarj=input(\"Ingrese nro de tarjeta de crédito(los 16 dígitos de la tarjeta sin espacios): \")\n",
        "  if len(NroTarj)==16:\n",
        "    NroTarj=int(NroTarj)\n",
        "  while NroTarj > 0:\n",
        "    dig=NroTarj%10\n",
        "    if indice % 2!=0:\n",
        "      Nvodig=dig*2\n",
        "      if Nvodig>9:\n",
        "        suma=0\n",
        "        while Nvodig>0:\n",
        "          subdig= Nvodig%10\n",
        "          suma=suma+subdig\n",
        "          Nvodig=Nvodig//10\n",
        "        Nvodig=suma\n",
        "      Total=Total+Nvodig\n",
        "    else:\n",
        "      Total=Total+dig\n",
        "    NroTarj=NroTarj//10\n",
        "    indice+=1\n",
        "  if indice == 16:\n",
        "    bandera = False\n",
        "  else:\n",
        "    print(\"Numero incorrecto intente nuevamente.\")\n",
        "print(f\"la suma total es: {Total}\")\n",
        "if Total%10==0:\n",
        "  print(\"Tarjeta válida\")\n",
        "else:\n",
        "  print(\"Tarjeta inválida\")"
      ],
      "metadata": {
        "id": "5qlfMZzr7Mjo"
      },
      "execution_count": null,
      "outputs": []
    },
    {
      "cell_type": "code",
      "source": [
        "bandera  = True\n",
        "while bandera == True:\n",
        "  resultado = 0\n",
        "  indice = 0\n",
        "  nro_Tarjeta = input(\"Ingrese un numero de tarjeta de credito (16 cifras): \")\n",
        "  if len(nro_Tarjeta) == 16:\n",
        "    nro = int(nro_Tarjeta)\n",
        "    while nro > 0:\n",
        "      dig = nro % 10\n",
        "      if indice % 2 != 0:\n",
        "        producto = dig * 2\n",
        "        if producto > 9:  # si el numero es de dos cifras lo conviento en un numero de una cifra\n",
        "          suma = 0\n",
        "          while producto > 0:\n",
        "            dig_2 = producto % 10\n",
        "            suma = suma + dig_2\n",
        "            producto = producto // 10\n",
        "          resultado = resultado + suma\n",
        "        else:\n",
        "          resultado = resultado + dig * 2\n",
        "      else:\n",
        "        resultado = resultado + dig\n",
        "      nro = nro // 10\n",
        "      indice += 1\n",
        "    if indice == 16:\n",
        "      bandera = False\n",
        "  else:\n",
        "    print(\"Numero incorrecto intente nuevamente.\")\n",
        "print(\"resultado = \", resultado)\n",
        "if resultado % 10 == 0:\n",
        "  print(\"Tarjeta aceptada\")\n",
        "else:\n",
        "  print(\"Tarjeta rechazada\")\n"
      ],
      "metadata": {
        "id": "VqdNrvRG8fD-",
        "colab": {
          "base_uri": "https://localhost:8080/"
        },
        "outputId": "68f2fbcf-1b67-4707-e039-20a7dc98d90d"
      },
      "execution_count": null,
      "outputs": [
        {
          "output_type": "stream",
          "name": "stdout",
          "text": [
            "Ingrese un numero de tarjeta de credito (16 cifras): 4417123456789113\n",
            "resultado =  70\n",
            "Tarjeta aceptada\n"
          ]
        }
      ]
    }
  ]
}