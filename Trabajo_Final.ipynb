{
  "nbformat": 4,
  "nbformat_minor": 0,
  "metadata": {
    "colab": {
      "provenance": []
    },
    "kernelspec": {
      "name": "python3",
      "display_name": "Python 3"
    },
    "language_info": {
      "name": "python"
    }
  },
  "cells": [
    {
      "cell_type": "markdown",
      "source": [
        "ACTIVIDAD FINAL OBLIGATORIA\n",
        "\n",
        "Estructuras de control. Diccionarios. Archivos JSON.\n",
        "\n",
        "¿A dónde voy en las vacaciones de invierno? Gratis…\n",
        "\n",
        "Este proyecto consiste en permitir el registro y consulta de eventos gratuitos que se realicen dentro del territorio argentino.\n",
        "\n",
        "Está dirigido a dos tipos de usuarios.\n",
        "\n",
        "Para aquellos que deseen dar a conocer un evento, indicando día, hora y lugar de realización, como así también el nombre y descripción del evento.\n",
        "Para aquellos que deseen consultar la oferta de eventos en su municipio o un listado de eventos a realizarse en un periodo de tiempo.\n",
        "El programa iniciará ofreciendo un menú (Registro/Consulta). Registro solicitará los datos necesarios para generar un archivo JSON a partir del diseño de diccionarios con la siguiente forma:\n",
        "\n",
        "{\n",
        "\n",
        "“nombre_evento”: “Festival por aniversario del Club Atlético Libertad”,\n",
        "\n",
        "\"descripcion\": “Evento familiar con músicos locales”,\n",
        "\n",
        "\"dia\": 12,\n",
        "\n",
        "\"mes\": “julio”,\n",
        "\n",
        "\"hora\": 15,\n",
        "\n",
        "\"provincia\": “Salta”,\n",
        "\n",
        "\"localidad\": “Tartagal”,\n",
        "\n",
        "}\n",
        "\n",
        "Los datos “provincia” y “localidad” deben ser extraídos de las correspondientes APIs. Es decir, debe mostrarse al usuario una lista de provincias y a partir de su elección, una lista de las localidades de esa provincia.\n",
        "\n",
        "Consulta ofrecerá otro menú (Eventos en mi localidad/Todos los eventos/Eventos entre dos fechas).\n",
        "\n",
        "Para “Eventos en mi localidad”, nuevamente accederemos a la información de las APIs para conocer provincia y localidad del usuario y luego buscaremos dentro del archivo JSON ya generado todos los eventos vinculados.\n",
        "\n",
        "Para “Todos los eventos” simplemente debemos listar completamente la información del archivo JSON generado.\n",
        "\n",
        "Para “Eventos entre dos fechas” solicitamos al usuario día y mes de inicio y día y mes de fin del intervalo que desea conocer y se realizará una búsqueda dentro del JSON creado que cumpla con los requisitos pedidos.\n",
        "\n",
        "Para realizar esta actividad contamos con las siguientes URLs\n",
        "\n",
        "https://apis.datos.gob.ar/georef/api/provincias?campos=id,nombre\n",
        "\n",
        "https://apis.datos.gob.ar/georef/api/municipios?provincia=22&campos=id,nombre&max=100\n",
        "\n",
        "Se solicita que las estudiantes trabajen en parejas a través de sus cuentas GitHub, repartiendo las tareas equitativamente."
      ],
      "metadata": {
        "id": "uZdGolKckdCB"
      }
    },
    {
      "cell_type": "code",
      "source": [
        "import requests\n",
        "import json\n",
        "\n",
        "def obtener_provincias():\n",
        "    url = \"https://apis.datos.gob.ar/georef/api/provincias\"\n",
        "    response = requests.get(url)\n",
        "    data = response.json()\n",
        "    provincias = [provincia[\"nombre\"] for provincia in data[\"provincias\"]]\n",
        "    return provincias\n",
        "\n",
        "def obtener_localidades(provincia):\n",
        "    url = f\"https://apis.datos.gob.ar/georef/api/municipios?provincia={provincia}&campos=id,nombre&max=1000\"\n",
        "    response = requests.get(url)\n",
        "    data = response.json()\n",
        "    localidades = [municipio[\"nombre\"] for municipio in data[\"municipios\"]]\n",
        "    return localidades\n",
        "\n",
        "def registrar():\n",
        "\n",
        "    nombre_evento= input(\"Ingrese el nombre del evento: \")\n",
        "    descripcion= input(\"Ingrese una breve descripción del evento: \")\n",
        "    print(\"Ingrese la fecha en que se realizá el evento:\")\n",
        "    dia=int(input(\"Ingrese el día: \"))\n",
        "    mes= input(\"Ingrese el mes: \")\n",
        "    hora= int(input(\"Ingrese la hora del evento: \"))\n",
        "    provincias = obtener_provincias()\n",
        "    print(\"Provincias disponibles:\")\n",
        "    for i, provincia in enumerate(provincias):\n",
        "        print(f\"{i+1}. {provincia}\")\n",
        "    provincia_elegida = int(input(\"Seleccione una provincia: \"))\n",
        "    localidades = obtener_localidades(provincias[provincia_elegida-1])\n",
        "    print(\"Localidades disponibles:\")\n",
        "    for i, localidad in enumerate(localidades):\n",
        "        print(f\"{i+1}. {localidad}\")\n",
        "    localidad_elegida = int(input(\"Seleccione una localidad: \"))\n",
        "    provincia = provincias[provincia_elegida-1]\n",
        "    localidad = localidades[localidad_elegida-1]\n",
        "\n",
        "    datos_evento = {\n",
        "        \"nombre_evento\": nombre_evento,\n",
        "        \"descripcion\": descripcion,\n",
        "        \"dia\": dia,\n",
        "        \"mes\": mes,\n",
        "        \"hora\": hora,\n",
        "        \"provincia\": provincia,\n",
        "        \"localidad\": localidad\n",
        "    }\n",
        "\n",
        "def menu():\n",
        "  opcion=0\n",
        "  while opcion!=3:\n",
        "    print(\"--------------------------------------------------\")\n",
        "    print(\"       Eventos gratuitos                          \")\n",
        "    print(\"--------------------------------------------------\")\n",
        "    print(\"1.Consultar eventos gratuitos disponibles\")\n",
        "    print(\"2.Registrar eventos gratuitos\")\n",
        "    print(\"3.Salir\")\n",
        "    opcion=int(input(\"Ingrese la opción deseada: \"))\n",
        "    if opcion==1:\n",
        "      Consultar()\n",
        "    elif opcion==2:\n",
        "      registrar()\n",
        "    else:\n",
        "        if opcion!=3:\n",
        "          print (\"la opción ingresada no es correcta\")\n",
        "\n",
        "\n",
        "\n",
        "\n",
        "\n",
        "menu()"
      ],
      "metadata": {
        "id": "LMP3GXVUklQI"
      },
      "execution_count": null,
      "outputs": []
    }
  ]
}

Desde Aqui: es el codigo que hice

import requests
import json

# Función para obtener la lista de provincias desde la API
def obtener_provincias():
    url = "https://apis.datos.gob.ar/georef/api/provincias?campos=id,nombre"
    response = requests.get(url)
    data = response.json()
    provincias = {provincia["id"]: provincia["nombre"] for provincia in data["provincias"]}
    return provincias

# Función para obtener la lista de localidades de una provincia desde la API
def obtener_localidades(provincia_id):
    url = f"https://apis.datos.gob.ar/georef/api/municipios?provincia={provincia_id}&campos=id,nombre&max=100"
    response = requests.get(url)
    data = response.json()
    localidades = {localidad["id"]: localidad["nombre"] for localidad in data["municipios"]}
    return localidades

# Función para registrar un evento en el archivo JSON
def registrar_evento():
    nombre_evento = input("Ingrese el nombre del evento: ")
    descripcion = input("Ingrese la descripción del evento: ")
    dia = int(input("Ingrese el día de realización del evento: "))
    mes = input("Ingrese el mes de realización del evento: ")
    hora = int(input("Ingrese la hora de realización del evento: "))

    provincias = obtener_provincias()
    for id_provincia, nombre_provincia in provincias.items():
        print(f"{id_provincia}: {nombre_provincia}")

    provincia_id = input("Seleccione el ID de la provincia donde se realizará el evento: ")
    localidades = obtener_localidades(provincia_id)
    for id_localidad, nombre_localidad in localidades.items():
        print(f"{id_localidad}: {nombre_localidad}")

    localidad_id = input("Seleccione el ID de la localidad donde se realizará el evento: ")

    evento = {
        "nombre_evento": nombre_evento,
        "descripcion": descripcion,
        "dia": dia,
        "mes": mes,
        "hora": hora,
        "provincia": provincias[provincia_id],
        "localidad": localidades[localidad_id]
    }

    with open("eventos.json", "a") as archivo:
        json.dump(evento, archivo)
        archivo.write("\n")

    print("Evento registrado correctamente.")

# Función para consultar eventos desde el archivo JSON
def consultar_eventos():
    print("1. Eventos en mi localidad")
    print("2. Todos los eventos")
    print("3. Eventos entre dos fechas")
    opcion = int(input("Seleccione una opción: "))

    if opcion == 1:
        # Implementar consulta de eventos en la localidad del usuario
        pass
    elif opcion == 2:
        # Implementar listado de todos los eventos
        pass
    elif opcion == 3:
        # Implementar búsqueda de eventos entre dos fechas
        pass
    else:
        print("Opción inválida.")

# Función principal que muestra el menú principal
def main():
    while True:
        print("Menú Principal")
        print("1. Registro de evento")
        print("2. Consulta de eventos")
        print("3. Salir")
        opcion = int(input("Seleccione una opción: "))

        if opcion == 1:
            registrar_evento()
        elif opcion == 2:
            consultar_eventos()
        elif opcion == 3:
            break
        else:
            print("Opción inválida.")

if __name__ == "__main__":
    main()

#Lo que fui editando
import requests
import json

def obtener_provincias():
    url = "https://apis.datos.gob.ar/georef/api/provincias?campos=id,nombre"
    response = requests.get(url)
    data = response.json()
    provincias = {provincia["id"]: provincia["nombre"] for provincia in data["provincias"]}
    return provincias

def obtener_localidades(provincia):
    url = f"https://apis.datos.gob.ar/georef/api/municipios?provincia={provincia}&campos=id,nombre&max=100"
    response = requests.get(url)
    data = response.json()
    localidades = {localidad["id"]: localidad["nombre"] for localidad in data["municipios"]}
    return localidades

def registrar():
    nombre_evento= input("Ingrese el nombre del evento: ")
    descripcion= input("Ingrese la descripción del evento: ")
    dia=int(input("Ingrese el día de realización del evento: "))
    mes= input("Ingrese el mes de realización del evento: ")
    hora= int(input("Ingrese la hora de realización del evento: "))

    provincias = obtener_provincias()
    for id_provincia, nombre_provincia in provincias.items():
        print(f"{id_provincia}: {nombre_provincia}")

    provincia_id = int(input("Seleccione el ID de la provincia donde se realizará el evento: "))
    localidades = obtener_localidades(provincia_id)
    for id_localidad, nombre_localidad in localidades.items():
        print(f"{id_localidad} {nombre_localidad}")

    localidad_id = int(input("Seleccione el ID de la localidad donde se realizará el evento: "))
    
    datos_evento = {
        "nombre_evento": nombre_evento,
        "descripcion": descripcion,
        "dia": dia,
        "mes": mes,
        "hora": hora,
        "provincia": provincias[provincia_id],
        "localidad": localidades[localidad_id]
    }

    with open("eventos.json", "a") as archivo:
      json.dump(datos_evento, archivo)
      archivo.write("\n")
    
    print("Evento registrado correctamente.")

def consultar_eventos():
    print("1. Eventos en mi localidad")
    print("2. Todos los eventos")
    print("3. Eventos entre dos fechas")
    opcion = int(input("Seleccione una opción: "))

    if opcion == 1:
        # Implementar consulta de eventos en la localidad del usuario
        pass
    elif opcion == 2:
        # Implementar listado de todos los eventos
        pass
    elif opcion == 3:
        # Implementar búsqueda de eventos entre dos fechas
        pass
    else:
        print("Opción inválida.")

def menu():
  while True:
    print("--------------------------------------------------")
    print("       Eventos gratuitos                          ")
    print("--------------------------------------------------")
    print("1.Consultar eventos gratuitos disponibles")
    print("2.Registrar eventos gratuitos")
    print("3.Salir")
    opcion=int(input("Ingrese la opción deseada: "))

    
    if opcion==1:
      consultar_eventos()
    elif opcion==2:
      registrar()
    else:
        if opcion==3:
          break
        else:
          print ("la opción ingresada no es correcta")


if __name__ == "__main__":
    menu()
