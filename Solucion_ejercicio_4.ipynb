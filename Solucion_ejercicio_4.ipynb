{
  "nbformat": 4,
  "nbformat_minor": 0,
  "metadata": {
    "colab": {
      "provenance": []
    },
    "kernelspec": {
      "name": "python3",
      "display_name": "Python 3"
    },
    "language_info": {
      "name": "python"
    }
  },
  "cells": [
    {
      "cell_type": "markdown",
      "source": [
        "En la sala de juegos Powerland lanzaron una nueva promoción. Con la compra de una tarjeta, te acreditan extra el 50% de tu primer carga. Dado el precio de la tarjeta y el monto de la primera carga a efectuar, indicar el monto a pagar por un cliente que adquiera una nueva tarjeta y el saldo de la tarjeta."
      ],
      "metadata": {
        "id": "eLdxTyT_xm4L"
      }
    },
    {
      "cell_type": "code",
      "source": [
        "precio_tarjeta = 100\n",
        "carga_saldo=int(input(\"Ingrese el saldo a cargar: \"))\n",
        "print(f\"El monto a pagar es: {precio_tarjeta + carga_saldo}\")\n",
        "print(f\"El saldo de su tarjeta es: {carga_saldo * 1.5}\")\n"
      ],
      "metadata": {
        "id": "LKs15HNpxoxb"
      },
      "execution_count": null,
      "outputs": []
    }
  ]
}